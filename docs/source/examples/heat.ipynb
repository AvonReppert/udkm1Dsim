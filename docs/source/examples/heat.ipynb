{
 "cells": [
  {
   "cell_type": "markdown",
   "metadata": {},
   "source": [
    "# Heat\n",
    "\n",
    "In this example the laser-excitation of a sample `Structure` is shown.\n",
    "It includes the actual absorption of the laser light as well as the transient temperature profile calculation."
   ]
  },
  {
   "cell_type": "markdown",
   "metadata": {},
   "source": [
    "## Setup\n",
    "\n",
    "Do all necessary imports and settings."
   ]
  },
  {
   "cell_type": "code",
   "execution_count": 1,
   "metadata": {},
   "outputs": [],
   "source": [
    "import udkm1Dsim as ud\n",
    "u = ud.u #  import the pint unit registry from udkm1Dsim\n",
    "import scipy.constants as constants\n",
    "import numpy as np\n",
    "import matplotlib.pyplot as plt\n",
    "%matplotlib inline\n",
    "u.setup_matplotlib() #  use matplotlib with pint units"
   ]
  },
  {
   "cell_type": "markdown",
   "metadata": {},
   "source": [
    "## Structure\n",
    "\n",
    "Refere to the _structure_-example for more details."
   ]
  },
  {
   "cell_type": "code",
   "execution_count": 2,
   "metadata": {},
   "outputs": [],
   "source": [
    "O = ud.Atom('O')\n",
    "Ti = ud.Atom('Ti')\n",
    "Sr = ud.Atom('Sr')\n",
    "Ru = ud.Atom('Ru')\n",
    "Pb = ud.Atom('Pb')\n",
    "Zr = ud.Atom('Zr')"
   ]
  },
  {
   "cell_type": "code",
   "execution_count": 3,
   "metadata": {},
   "outputs": [],
   "source": [
    "# c-axis lattice constants of the two layers\n",
    "c_STO_sub = 3.905*u.angstrom\n",
    "c_SRO = 3.94897*u.angstrom\n",
    "# sound velocities [nm/ps] of the two layers\n",
    "sv_SRO = 6.312*u.nm/u.ps\n",
    "sv_STO = 7.800*u.nm/u.ps\n",
    "\n",
    "# SRO layer\n",
    "prop_SRO = {}\n",
    "prop_SRO['a_axis'] = c_STO_sub # aAxis\n",
    "prop_SRO['b_axis'] = c_STO_sub # bAxis\n",
    "prop_SRO['deb_Wal_Fac'] = 0 # Debye-Waller factor\n",
    "prop_SRO['sound_vel'] = sv_SRO # sound velocity\n",
    "prop_SRO['opt_ref_index'] = 2.44+4.32j\n",
    "prop_SRO['therm_cond'] = 5.72*u.W/(u.m *u.K) # heat conductivity\n",
    "prop_SRO['lin_therm_exp'] = 1.03e-5 # linear thermal expansion\n",
    "prop_SRO['heat_capacity'] = 'lambda T: 455.2 + 0.112*T - 2.1935e6/T**2' # heat capacity [J/kg K]\n",
    "\n",
    "SRO = ud.UnitCell('SRO', 'Strontium Ruthenate', c_SRO, **prop_SRO)\n",
    "SRO.add_atom(O, 0)\n",
    "SRO.add_atom(Sr, 0)\n",
    "SRO.add_atom(O, 0.5)\n",
    "SRO.add_atom(O, 0.5)\n",
    "SRO.add_atom(Ru, 0.5)\n",
    "\n",
    "# STO substrate\n",
    "prop_STO_sub = {}\n",
    "prop_STO_sub['a_axis'] = c_STO_sub # aAxis\n",
    "prop_STO_sub['b_axis'] = c_STO_sub # bAxis\n",
    "prop_STO_sub['deb_Wal_Fac'] = 0 # Debye-Waller factor\n",
    "prop_STO_sub['sound_vel'] = sv_STO # sound velocity\n",
    "prop_STO_sub['opt_ref_index'] = 2.1+0j\n",
    "prop_STO_sub['therm_cond'] = 12*u.W/(u.m *u.K) # heat conductivity\n",
    "prop_STO_sub['lin_therm_exp'] = 1e-5 # linear thermal expansion\n",
    "prop_STO_sub['heat_capacity'] = 'lambda T: 733.73 + 0.0248*T - 6.531e6/T**2' # heat capacity [J/kg K]\n",
    "    \n",
    "STO_sub = ud.UnitCell('STOsub', 'Strontium Titanate Substrate', c_STO_sub, **prop_STO_sub)\n",
    "STO_sub.add_atom(O, 0)\n",
    "STO_sub.add_atom(Sr, 0)\n",
    "STO_sub.add_atom(O, 0.5)\n",
    "STO_sub.add_atom(O, 0.5)\n",
    "STO_sub.add_atom(Ti, 0.5)"
   ]
  },
  {
   "cell_type": "code",
   "execution_count": 4,
   "metadata": {},
   "outputs": [],
   "source": [
    "S = ud.Structure('Single Layer')\n",
    "S.add_sub_structure(SRO, 100) # add 100 layers of SRO to sample\n",
    "S.add_sub_structure(STO_sub, 200) # add 200 layers of STO substrate"
   ]
  },
  {
   "cell_type": "markdown",
   "metadata": {},
   "source": [
    "## Initialize Heat\n",
    "\n",
    "The `Heat` class requires a `Structure` object and a boolean `force_recalc` in order overwrite previous simulation results.\n",
    "\n",
    "These results are saved in the `cache_dir` when `save_data` is enabled.\n",
    "Printing simulation messages can be en-/disabled using `disp_messages` and progress bars can using the boolean switch `progress_bar`."
   ]
  },
  {
   "cell_type": "code",
   "execution_count": 5,
   "metadata": {},
   "outputs": [
    {
     "name": "stdout",
     "output_type": "stream",
     "text": [
      "Heat simulation properties:\n",
      "\n",
      "This is the current structure for the simulations:\n",
      "\n",
      "Structure properties:\n",
      "\n",
      "Name   : Single Layer\n",
      "Thickness : 117.59 nanometer\n",
      "Roughness : 0.00 nanometer\n",
      "----\n",
      "100 times Strontium Ruthenate: 39.49 nanometer\n",
      "200 times Strontium Titanate Substrate: 78.10 nanometer\n",
      "----\n",
      "no substrate\n",
      "\n",
      "\n",
      "Display properties:\n",
      "\n",
      "================================  =======================================================\n",
      "                       parameter  value\n",
      "================================  =======================================================\n",
      "                    force recalc  True\n",
      "                 cache directory  ./\n",
      "                display messages  True\n",
      "                       save data  False\n",
      "                    progress bar  True\n",
      "              excitation fluence  [] mJ/cm²\n",
      "                excitation delay  [0.0] ps\n",
      "         excitation pulse length  [0.0] ps\n",
      "           excitation wavelength  799.9999999999999 nm\n",
      "                excitation theta  90.0 deg\n",
      "excitation multilayer absorption  True\n",
      "                  heat diffusion  False\n",
      "       interpolate at interfaces  11\n",
      "                         backend  scipy\n",
      "                       distances  no distance mesh is set for heat diffusion calculations\n",
      "               top boundary type  isolator\n",
      "            bottom boundary type  isolator\n",
      "================================  =======================================================\n"
     ]
    }
   ],
   "source": [
    "h = ud.Heat(S, True)\n",
    "\n",
    "h.save_data = False\n",
    "h.disp_messages = True\n",
    "\n",
    "print(h)"
   ]
  },
  {
   "cell_type": "markdown",
   "metadata": {},
   "source": [
    "## Simple Excitation\n",
    "\n",
    "In order to calculate the temperature of the sample after quasi-instantanious (delta) photoexcitation the `excitation` must be set with the following parameters:\n",
    "* `fluence`\n",
    "* `delay_pump`\n",
    "* `pulse_width`\n",
    "* `multilayer_absorption`\n",
    "* `wavelength`\n",
    "* `theta`\n",
    "\n",
    "The `wavelength` and `theta` angle of the excitation are only relevant if `multilayer_absorption = True`.\n",
    "Otherwise the _Lambert_Beer_-law is used.  \n",
    "__Note:__ the `fluence`, `delay_pump`, and `pulse_width` must be given as `array` or `list`.\n",
    "\n",
    "The simulation requires also a `delay` array as temporal grid as well as an initial temperature `init_temp`.\n",
    "The later can be either a scalar which is then the constant temperature of the whole sample structure, or the initial temperature can be an array of temperatures for each single layer in the structure."
   ]
  },
  {
   "cell_type": "code",
   "execution_count": 6,
   "metadata": {},
   "outputs": [
    {
     "name": "stderr",
     "output_type": "stream",
     "text": [
      "c:\\users\\schick\\general\\python\\wpy64-3770\\python-3.7.7.amd64\\lib\\site-packages\\pint\\quantity.py:1138: RuntimeWarning: divide by zero encountered in double_scalars\n",
      "  magnitude = magnitude_op(self._magnitude, other_magnitude)\n"
     ]
    }
   ],
   "source": [
    "h.excitation = {'fluence': [5]*u.mJ/u.cm**2,\n",
    "                'delay_pump':  [0]*u.ps,\n",
    "                'pulse_width':  [0]*u.ps,\n",
    "                'multilayer_absorption': True,\n",
    "                'wavelength': 800*u.nm,\n",
    "                'theta': 45*u.deg}\n",
    "\n",
    "# when calculating the laser absorption profile using Lamber-Beer-law\n",
    "# the opt_pen_depth must be set manually or calculated from the refractive index\n",
    "SRO.set_opt_pen_depth_from_ref_index(800*u.nm)\n",
    "STO_sub.set_opt_pen_depth_from_ref_index(800*u.nm)\n",
    "\n",
    "# temporal and spatial grid\n",
    "delays = np.r_[-10:200:0.1]*u.ps\n",
    "_, _, distances = S.get_distances_of_layers()"
   ]
  },
  {
   "cell_type": "markdown",
   "metadata": {},
   "source": [
    "### Laser Absorption Profile\n",
    "\n",
    "Here the difference in the spatial laser absorption profile is shown between the multilayer absorption algorithm and the Lamber-Beer law.  \n",
    "Note that Lambert-Beer does not include reflection of the incident light from the surface of the sample structure:"
   ]
  },
  {
   "cell_type": "code",
   "execution_count": 7,
   "metadata": {},
   "outputs": [
    {
     "data": {
      "image/png": "[encoded data removed]",
      "text/plain": [
       "<Figure size 432x288 with 1 Axes>"
      ]
     },
     "metadata": {
      "needs_background": "light"
     },
     "output_type": "display_data"
    }
   ],
   "source": [
    "plt.figure()\n",
    "dAdz, _, _, _ = h.get_multilayers_absorption_profile()\n",
    "plt.plot(distances.to('nm'), dAdz, label='multilayer')\n",
    "dAdz = h.get_Lambert_Beer_absorption_profile()\n",
    "plt.plot(distances.to('nm'), dAdz, label='Lamber-Beer')\n",
    "plt.legend()\n",
    "plt.xlabel('Distance [nm]')\n",
    "plt.ylabel('Differnetial Absorption')\n",
    "plt.title('Laser Absorption Profile')\n",
    "plt.show()"
   ]
  },
  {
   "cell_type": "markdown",
   "metadata": {},
   "source": [
    "### Temperature Map"
   ]
  },
  {
   "cell_type": "code",
   "execution_count": 8,
   "metadata": {},
   "outputs": [
    {
     "name": "stdout",
     "output_type": "stream",
     "text": [
      "Elapsed time for _temperature_after_delta_excitation_: 0.046878 s\n",
      "Elapsed time for _temp_map_: 0.271813 s\n"
     ]
    }
   ],
   "source": [
    "temp_map, delta_temp = h.get_temp_map(delays, 300*u.K)"
   ]
  },
  {
   "cell_type": "code",
   "execution_count": 9,
   "metadata": {},
   "outputs": [
    {
     "data": {
      "image/png": "[encoded data removed]",
      "text/plain": [
       "<Figure size 432x576 with 3 Axes>"
      ]
     },
     "metadata": {
      "needs_background": "light"
     },
     "output_type": "display_data"
    }
   ],
   "source": [
    "plt.figure(figsize=[6, 8])\n",
    "plt.subplot(2, 1, 1)\n",
    "plt.plot(distances.to('nm').magnitude, temp_map[101, :])\n",
    "plt.xlim([0, distances.to('nm').magnitude[-1]])\n",
    "plt.xlabel('Distance [nm]')\n",
    "plt.ylabel('Temperature [K]')\n",
    "plt.title('Temperature Profile')\n",
    "\n",
    "plt.subplot(2, 1, 2)\n",
    "plt.pcolormesh(distances.to('nm').magnitude, delays.to('ps').magnitude, temp_map)\n",
    "plt.colorbar()\n",
    "plt.xlabel('Distance [nm]')\n",
    "plt.ylabel('Delay [ps]')\n",
    "plt.title('Temperature Map')\n",
    "\n",
    "plt.tight_layout()\n",
    "plt.show()"
   ]
  },
  {
   "cell_type": "markdown",
   "metadata": {},
   "source": [
    "## Heat Diffusion\n",
    "\n",
    "In order to enable heat diffusion the boolean switch `heat_diffusion` must be `True`."
   ]
  },
  {
   "cell_type": "code",
   "execution_count": 10,
   "metadata": {},
   "outputs": [
    {
     "name": "stdout",
     "output_type": "stream",
     "text": [
      "Elapsed time for _temperature_after_delta_excitation_: 0.038805 s\n",
      "Calculating _heat_diffusion_ ...\n"
     ]
    },
    {
     "data": {
      "application/vnd.jupyter.widget-view+json": {
       "model_id": "953a3d79cdd04c1aacde477634b84f1f",
       "version_major": 2,
       "version_minor": 0
      },
      "text/plain": [
       "HBox(children=(FloatProgress(value=1.0, bar_style='info', max=1.0), HTML(value='')))"
      ]
     },
     "metadata": {},
     "output_type": "display_data"
    },
    {
     "name": "stdout",
     "output_type": "stream",
     "text": [
      "\n",
      "Elapsed time for _heat_diffusion_: 25.470601 s\n",
      "Elapsed time for _temp_map_: 25.739014 s\n"
     ]
    }
   ],
   "source": [
    "# enable heat diffusion\n",
    "h.heat_diffusion = True\n",
    "# set the boundary conditions\n",
    "h.boundary_conditions = {'top_type': 'isolator', 'bottom_type': 'isolator'}\n",
    "# The resulting temperature profile is calculated in one line:\n",
    "temp_map, delta_temp = h.get_temp_map(delays, 300*u.K)"
   ]
  },
  {
   "cell_type": "code",
   "execution_count": 11,
   "metadata": {},
   "outputs": [
    {
     "data": {
      "image/png": "[encoded data removed]",
      "text/plain": [
       "<Figure size 432x576 with 3 Axes>"
      ]
     },
     "metadata": {
      "needs_background": "light"
     },
     "output_type": "display_data"
    }
   ],
   "source": [
    "plt.figure(figsize=[6, 8])\n",
    "plt.subplot(2, 1, 1)\n",
    "plt.plot(distances.to('nm').magnitude, temp_map[101, :], label=np.round(delays[101]))\n",
    "plt.plot(distances.to('nm').magnitude, temp_map[501, :], label=np.round(delays[501]))\n",
    "plt.plot(distances.to('nm').magnitude, temp_map[-1, :], label=np.round(delays[-1]))\n",
    "plt.xlim([0, distances.to('nm').magnitude[-1]])\n",
    "plt.xlabel('Distance [nm]')\n",
    "plt.ylabel('Temperature [K]')\n",
    "plt.legend()\n",
    "plt.title('Temperature Profile with Heat Diffusion')\n",
    "\n",
    "plt.subplot(2, 1, 2)\n",
    "plt.pcolormesh(distances.to('nm').magnitude, delays.to('ps').magnitude, temp_map)\n",
    "plt.colorbar()\n",
    "plt.xlabel('Distance [nm]')\n",
    "plt.ylabel('Delay [ps]')\n",
    "plt.title('Temperature Map with Heat Diffusion')\n",
    "\n",
    "plt.tight_layout()\n",
    "plt.show()"
   ]
  },
  {
   "cell_type": "markdown",
   "metadata": {},
   "source": [
    "### Heat Diffusion Paramters\n",
    "\n",
    "For heat diffusion simulations various parameters for the underlying pdepe solver can be altered.\n",
    "\n",
    "By default, the `backend` is set to `scipy` but can be switched to `matlab`.\n",
    "Currently, the is no obvious reason to choose _MATLAB_ above _SciPy_.\n",
    "\n",
    "Depending on the `backend` either the `ode_options` or `ode_options_matlab` can be configured and are directly handed to the actual solver.\n",
    "Please refere to the documentation of the actual backend and solver and the __API documentation__ for more details.\n",
    "\n",
    "The speed but also the result of the heat diffusion simulation strongly depends on the spatial grid handed to the solver.\n",
    "By default, one spatial grid point is used for every `Layer` (`AmorphousLayer` or `UnitCell`) in the `Structure`.\n",
    "The resulting `temp_map` will also always be interpolated in this spatial grid which is equivalent to the distance vector returned by `S.get_distances_of_layers()`.\n",
    "\n",
    "As the solver for the heat diffusion usually suffers from large gradients, e.g. of thermal properties or initial temperatures, additional spatial grid points are added by default only for internal calculations.\n",
    "The number of additional points (should be an odd number, default is 11) is set by:"
   ]
  },
  {
   "cell_type": "code",
   "execution_count": 12,
   "metadata": {},
   "outputs": [],
   "source": [
    "h.intp_at_interface = 11"
   ]
  },
  {
   "cell_type": "markdown",
   "metadata": {},
   "source": [
    "The internally used spatial grid can be returned by:"
   ]
  },
  {
   "cell_type": "code",
   "execution_count": 13,
   "metadata": {},
   "outputs": [],
   "source": [
    "dist_interp, original_indicies = S.interp_distance_at_interfaces(h.intp_at_interface)"
   ]
  },
  {
   "cell_type": "markdown",
   "metadata": {},
   "source": [
    "The internal spatial grid can also be given by hand, e.g. to realize logarithmic steps for rather large `Structure`:"
   ]
  },
  {
   "cell_type": "code",
   "execution_count": 14,
   "metadata": {},
   "outputs": [],
   "source": [
    "h.distances = np.linspace(0, distances.magnitude[-1], 100)*u.m"
   ]
  },
  {
   "cell_type": "markdown",
   "metadata": {},
   "source": [
    "As already shown above, the heat diffusion simulation supports also an top and bottom  boundary condition. The can have the types:\n",
    "* `isolator`\n",
    "* `temperature`\n",
    "* `flux`\n",
    "\n",
    "For the later types also a value must be provides:"
   ]
  },
  {
   "cell_type": "code",
   "execution_count": 15,
   "metadata": {},
   "outputs": [
    {
     "name": "stdout",
     "output_type": "stream",
     "text": [
      "Heat simulation properties:\n",
      "\n",
      "This is the current structure for the simulations:\n",
      "\n",
      "Structure properties:\n",
      "\n",
      "Name   : Single Layer\n",
      "Thickness : 117.59 nanometer\n",
      "Roughness : 0.00 nanometer\n",
      "----\n",
      "100 times Strontium Ruthenate: 39.49 nanometer\n",
      "200 times Strontium Titanate Substrate: 78.10 nanometer\n",
      "----\n",
      "no substrate\n",
      "\n",
      "\n",
      "Display properties:\n",
      "\n",
      "================================  =======================================================\n",
      "                       parameter  value\n",
      "================================  =======================================================\n",
      "                    force recalc  True\n",
      "                 cache directory  ./\n",
      "                display messages  True\n",
      "                       save data  False\n",
      "                    progress bar  True\n",
      "              excitation fluence  [5.0] mJ/cm²\n",
      "                excitation delay  [0.0] ps\n",
      "         excitation pulse length  [0.0] ps\n",
      "           excitation wavelength  800.0 nm\n",
      "                excitation theta  45.0 deg\n",
      "excitation multilayer absorption  True\n",
      "                  heat diffusion  True\n",
      "       interpolate at interfaces  11\n",
      "                         backend  scipy\n",
      "                       distances  a distance mesh is set for heat diffusion calculations.\n",
      "               top boundary type  temperature\n",
      "        top boundary temperature  500 K\n",
      "            bottom boundary type  flux\n",
      "            bottom boundary flux  500000000000.0 W/m²\n",
      "================================  =======================================================\n"
     ]
    }
   ],
   "source": [
    "h.boundary_conditions = {'top_type': 'temperature', 'top_value': 500*u.K,\n",
    "                         'bottom_type': 'flux', 'bottom_value': 5e11*u.W/u.m**2}\n",
    "\n",
    "print(h)"
   ]
  },
  {
   "cell_type": "code",
   "execution_count": 16,
   "metadata": {},
   "outputs": [
    {
     "name": "stdout",
     "output_type": "stream",
     "text": [
      "Calculating _heat_diffusion_ ...\n"
     ]
    },
    {
     "data": {
      "application/vnd.jupyter.widget-view+json": {
       "model_id": "30604fced9e6438c97b8ff62dc0eba00",
       "version_major": 2,
       "version_minor": 0
      },
      "text/plain": [
       "HBox(children=(FloatProgress(value=1.0, bar_style='info', max=1.0), HTML(value='')))"
      ]
     },
     "metadata": {},
     "output_type": "display_data"
    },
    {
     "ename": "IndexError",
     "evalue": "too many indices for array",
     "output_type": "error",
     "traceback": [
      "\u001b[1;31m---------------------------------------------------------------------------\u001b[0m",
      "\u001b[1;31mIndexError\u001b[0m                                Traceback (most recent call last)",
      "\u001b[1;32m<ipython-input-16-2357cc4006a6>\u001b[0m in \u001b[0;36m<module>\u001b[1;34m\u001b[0m\n\u001b[0;32m      1\u001b[0m \u001b[1;31m# The resulting temperature profile is calculated in one line:\u001b[0m\u001b[1;33m\u001b[0m\u001b[1;33m\u001b[0m\u001b[1;33m\u001b[0m\u001b[0m\n\u001b[1;32m----> 2\u001b[1;33m \u001b[0mtemp_map\u001b[0m\u001b[1;33m,\u001b[0m \u001b[0mdelta_temp\u001b[0m \u001b[1;33m=\u001b[0m \u001b[0mh\u001b[0m\u001b[1;33m.\u001b[0m\u001b[0mget_temp_map\u001b[0m\u001b[1;33m(\u001b[0m\u001b[0mdelays\u001b[0m\u001b[1;33m,\u001b[0m \u001b[1;36m300\u001b[0m\u001b[1;33m*\u001b[0m\u001b[0mu\u001b[0m\u001b[1;33m.\u001b[0m\u001b[0mK\u001b[0m\u001b[1;33m)\u001b[0m\u001b[1;33m\u001b[0m\u001b[1;33m\u001b[0m\u001b[0m\n\u001b[0m",
      "\u001b[1;32mc:\\users\\schick\\general\\git\\udkm1dsim\\udkm1Dsim\\simulations\\heat.py\u001b[0m in \u001b[0;36mget_temp_map\u001b[1;34m(self, delays, init_temp)\u001b[0m\n\u001b[0;32m    721\u001b[0m             \u001b[1;31m# file does not exist so calculate and save\u001b[0m\u001b[1;33m\u001b[0m\u001b[1;33m\u001b[0m\u001b[1;33m\u001b[0m\u001b[0m\n\u001b[0;32m    722\u001b[0m             \u001b[0mtemp_map\u001b[0m\u001b[1;33m,\u001b[0m \u001b[0mdelta_temp_map\u001b[0m\u001b[1;33m,\u001b[0m \u001b[0mchecked_excitations\u001b[0m \u001b[1;33m=\u001b[0m\u001b[0;31m \u001b[0m\u001b[0;31m\\\u001b[0m\u001b[1;33m\u001b[0m\u001b[1;33m\u001b[0m\u001b[0m\n\u001b[1;32m--> 723\u001b[1;33m                 \u001b[0mself\u001b[0m\u001b[1;33m.\u001b[0m\u001b[0mcalc_temp_map\u001b[0m\u001b[1;33m(\u001b[0m\u001b[0mdelays\u001b[0m\u001b[1;33m,\u001b[0m \u001b[0minit_temp\u001b[0m\u001b[1;33m)\u001b[0m\u001b[1;33m\u001b[0m\u001b[1;33m\u001b[0m\u001b[0m\n\u001b[0m\u001b[0;32m    724\u001b[0m             self.save(full_filename, {'temp_map': temp_map,\n\u001b[0;32m    725\u001b[0m                                       'delta_temp_map': delta_temp_map},\n",
      "\u001b[1;32mc:\\users\\schick\\general\\git\\udkm1dsim\\udkm1Dsim\\simulations\\heat.py\u001b[0m in \u001b[0;36mcalc_temp_map\u001b[1;34m(self, delays, input_init_temp)\u001b[0m\n\u001b[0;32m    828\u001b[0m                 \u001b[1;31m# calc heat diffusion\u001b[0m\u001b[1;33m\u001b[0m\u001b[1;33m\u001b[0m\u001b[1;33m\u001b[0m\u001b[0m\n\u001b[0;32m    829\u001b[0m                 temp = self.calc_heat_diffusion(init_temp, distances, sub_delays, delay_pump,\n\u001b[1;32m--> 830\u001b[1;33m                                                 pulse_width, fluence)\n\u001b[0m\u001b[0;32m    831\u001b[0m \u001b[1;33m\u001b[0m\u001b[0m\n\u001b[0;32m    832\u001b[0m                 \u001b[1;32mif\u001b[0m \u001b[0mstop\u001b[0m \u001b[1;33m==\u001b[0m \u001b[1;36m1\u001b[0m\u001b[1;33m:\u001b[0m\u001b[1;33m\u001b[0m\u001b[1;33m\u001b[0m\u001b[0m\n",
      "\u001b[1;32mc:\\users\\schick\\general\\git\\udkm1dsim\\udkm1Dsim\\simulations\\heat.py\u001b[0m in \u001b[0;36mcalc_heat_diffusion\u001b[1;34m(self, init_temp, distances, delays, delay_pump, pulse_width, fluence)\u001b[0m\n\u001b[0;32m   1009\u001b[0m                       pbar, state),\n\u001b[0;32m   1010\u001b[0m                 \u001b[0mt_eval\u001b[0m\u001b[1;33m=\u001b[0m\u001b[0mdelays\u001b[0m\u001b[1;33m,\u001b[0m\u001b[1;33m\u001b[0m\u001b[1;33m\u001b[0m\u001b[0m\n\u001b[1;32m-> 1011\u001b[1;33m                 **self.ode_options)\n\u001b[0m\u001b[0;32m   1012\u001b[0m \u001b[1;33m\u001b[0m\u001b[0m\n\u001b[0;32m   1013\u001b[0m             \u001b[1;32mif\u001b[0m \u001b[0mpbar\u001b[0m \u001b[1;32mis\u001b[0m \u001b[1;32mnot\u001b[0m \u001b[1;32mNone\u001b[0m\u001b[1;33m:\u001b[0m  \u001b[1;31m# close tqdm progressbar if used\u001b[0m\u001b[1;33m\u001b[0m\u001b[1;33m\u001b[0m\u001b[0m\n",
      "\u001b[1;32mc:\\users\\schick\\general\\python\\wpy64-3770\\python-3.7.7.amd64\\lib\\site-packages\\scipy\\integrate\\_ivp\\ivp.py\u001b[0m in \u001b[0;36msolve_ivp\u001b[1;34m(fun, t_span, y0, method, t_eval, dense_output, events, vectorized, args, **options)\u001b[0m\n\u001b[0;32m    541\u001b[0m         \u001b[0mmethod\u001b[0m \u001b[1;33m=\u001b[0m \u001b[0mMETHODS\u001b[0m\u001b[1;33m[\u001b[0m\u001b[0mmethod\u001b[0m\u001b[1;33m]\u001b[0m\u001b[1;33m\u001b[0m\u001b[1;33m\u001b[0m\u001b[0m\n\u001b[0;32m    542\u001b[0m \u001b[1;33m\u001b[0m\u001b[0m\n\u001b[1;32m--> 543\u001b[1;33m     \u001b[0msolver\u001b[0m \u001b[1;33m=\u001b[0m \u001b[0mmethod\u001b[0m\u001b[1;33m(\u001b[0m\u001b[0mfun\u001b[0m\u001b[1;33m,\u001b[0m \u001b[0mt0\u001b[0m\u001b[1;33m,\u001b[0m \u001b[0my0\u001b[0m\u001b[1;33m,\u001b[0m \u001b[0mtf\u001b[0m\u001b[1;33m,\u001b[0m \u001b[0mvectorized\u001b[0m\u001b[1;33m=\u001b[0m\u001b[0mvectorized\u001b[0m\u001b[1;33m,\u001b[0m \u001b[1;33m**\u001b[0m\u001b[0moptions\u001b[0m\u001b[1;33m)\u001b[0m\u001b[1;33m\u001b[0m\u001b[1;33m\u001b[0m\u001b[0m\n\u001b[0m\u001b[0;32m    544\u001b[0m \u001b[1;33m\u001b[0m\u001b[0m\n\u001b[0;32m    545\u001b[0m     \u001b[1;32mif\u001b[0m \u001b[0mt_eval\u001b[0m \u001b[1;32mis\u001b[0m \u001b[1;32mNone\u001b[0m\u001b[1;33m:\u001b[0m\u001b[1;33m\u001b[0m\u001b[1;33m\u001b[0m\u001b[0m\n",
      "\u001b[1;32mc:\\users\\schick\\general\\python\\wpy64-3770\\python-3.7.7.amd64\\lib\\site-packages\\scipy\\integrate\\_ivp\\radau.py\u001b[0m in \u001b[0;36m__init__\u001b[1;34m(self, fun, t0, y0, t_bound, max_step, rtol, atol, jac, jac_sparsity, vectorized, first_step, **extraneous)\u001b[0m\n\u001b[0;32m    289\u001b[0m         \u001b[0mself\u001b[0m\u001b[1;33m.\u001b[0m\u001b[0mmax_step\u001b[0m \u001b[1;33m=\u001b[0m \u001b[0mvalidate_max_step\u001b[0m\u001b[1;33m(\u001b[0m\u001b[0mmax_step\u001b[0m\u001b[1;33m)\u001b[0m\u001b[1;33m\u001b[0m\u001b[1;33m\u001b[0m\u001b[0m\n\u001b[0;32m    290\u001b[0m         \u001b[0mself\u001b[0m\u001b[1;33m.\u001b[0m\u001b[0mrtol\u001b[0m\u001b[1;33m,\u001b[0m \u001b[0mself\u001b[0m\u001b[1;33m.\u001b[0m\u001b[0matol\u001b[0m \u001b[1;33m=\u001b[0m \u001b[0mvalidate_tol\u001b[0m\u001b[1;33m(\u001b[0m\u001b[0mrtol\u001b[0m\u001b[1;33m,\u001b[0m \u001b[0matol\u001b[0m\u001b[1;33m,\u001b[0m \u001b[0mself\u001b[0m\u001b[1;33m.\u001b[0m\u001b[0mn\u001b[0m\u001b[1;33m)\u001b[0m\u001b[1;33m\u001b[0m\u001b[1;33m\u001b[0m\u001b[0m\n\u001b[1;32m--> 291\u001b[1;33m         \u001b[0mself\u001b[0m\u001b[1;33m.\u001b[0m\u001b[0mf\u001b[0m \u001b[1;33m=\u001b[0m \u001b[0mself\u001b[0m\u001b[1;33m.\u001b[0m\u001b[0mfun\u001b[0m\u001b[1;33m(\u001b[0m\u001b[0mself\u001b[0m\u001b[1;33m.\u001b[0m\u001b[0mt\u001b[0m\u001b[1;33m,\u001b[0m \u001b[0mself\u001b[0m\u001b[1;33m.\u001b[0m\u001b[0my\u001b[0m\u001b[1;33m)\u001b[0m\u001b[1;33m\u001b[0m\u001b[1;33m\u001b[0m\u001b[0m\n\u001b[0m\u001b[0;32m    292\u001b[0m         \u001b[1;31m# Select initial step assuming the same order which is used to control\u001b[0m\u001b[1;33m\u001b[0m\u001b[1;33m\u001b[0m\u001b[1;33m\u001b[0m\u001b[0m\n\u001b[0;32m    293\u001b[0m         \u001b[1;31m# the error.\u001b[0m\u001b[1;33m\u001b[0m\u001b[1;33m\u001b[0m\u001b[1;33m\u001b[0m\u001b[0m\n",
      "\u001b[1;32mc:\\users\\schick\\general\\python\\wpy64-3770\\python-3.7.7.amd64\\lib\\site-packages\\scipy\\integrate\\_ivp\\base.py\u001b[0m in \u001b[0;36mfun\u001b[1;34m(t, y)\u001b[0m\n\u001b[0;32m    137\u001b[0m         \u001b[1;32mdef\u001b[0m \u001b[0mfun\u001b[0m\u001b[1;33m(\u001b[0m\u001b[0mt\u001b[0m\u001b[1;33m,\u001b[0m \u001b[0my\u001b[0m\u001b[1;33m)\u001b[0m\u001b[1;33m:\u001b[0m\u001b[1;33m\u001b[0m\u001b[1;33m\u001b[0m\u001b[0m\n\u001b[0;32m    138\u001b[0m             \u001b[0mself\u001b[0m\u001b[1;33m.\u001b[0m\u001b[0mnfev\u001b[0m \u001b[1;33m+=\u001b[0m \u001b[1;36m1\u001b[0m\u001b[1;33m\u001b[0m\u001b[1;33m\u001b[0m\u001b[0m\n\u001b[1;32m--> 139\u001b[1;33m             \u001b[1;32mreturn\u001b[0m \u001b[0mself\u001b[0m\u001b[1;33m.\u001b[0m\u001b[0mfun_single\u001b[0m\u001b[1;33m(\u001b[0m\u001b[0mt\u001b[0m\u001b[1;33m,\u001b[0m \u001b[0my\u001b[0m\u001b[1;33m)\u001b[0m\u001b[1;33m\u001b[0m\u001b[1;33m\u001b[0m\u001b[0m\n\u001b[0m\u001b[0;32m    140\u001b[0m \u001b[1;33m\u001b[0m\u001b[0m\n\u001b[0;32m    141\u001b[0m         \u001b[0mself\u001b[0m\u001b[1;33m.\u001b[0m\u001b[0mfun\u001b[0m \u001b[1;33m=\u001b[0m \u001b[0mfun\u001b[0m\u001b[1;33m\u001b[0m\u001b[1;33m\u001b[0m\u001b[0m\n",
      "\u001b[1;32mc:\\users\\schick\\general\\python\\wpy64-3770\\python-3.7.7.amd64\\lib\\site-packages\\scipy\\integrate\\_ivp\\base.py\u001b[0m in \u001b[0;36mfun_wrapped\u001b[1;34m(t, y)\u001b[0m\n\u001b[0;32m     19\u001b[0m \u001b[1;33m\u001b[0m\u001b[0m\n\u001b[0;32m     20\u001b[0m     \u001b[1;32mdef\u001b[0m \u001b[0mfun_wrapped\u001b[0m\u001b[1;33m(\u001b[0m\u001b[0mt\u001b[0m\u001b[1;33m,\u001b[0m \u001b[0my\u001b[0m\u001b[1;33m)\u001b[0m\u001b[1;33m:\u001b[0m\u001b[1;33m\u001b[0m\u001b[1;33m\u001b[0m\u001b[0m\n\u001b[1;32m---> 21\u001b[1;33m         \u001b[1;32mreturn\u001b[0m \u001b[0mnp\u001b[0m\u001b[1;33m.\u001b[0m\u001b[0masarray\u001b[0m\u001b[1;33m(\u001b[0m\u001b[0mfun\u001b[0m\u001b[1;33m(\u001b[0m\u001b[0mt\u001b[0m\u001b[1;33m,\u001b[0m \u001b[0my\u001b[0m\u001b[1;33m)\u001b[0m\u001b[1;33m,\u001b[0m \u001b[0mdtype\u001b[0m\u001b[1;33m=\u001b[0m\u001b[0mdtype\u001b[0m\u001b[1;33m)\u001b[0m\u001b[1;33m\u001b[0m\u001b[1;33m\u001b[0m\u001b[0m\n\u001b[0m\u001b[0;32m     22\u001b[0m \u001b[1;33m\u001b[0m\u001b[0m\n\u001b[0;32m     23\u001b[0m     \u001b[1;32mreturn\u001b[0m \u001b[0mfun_wrapped\u001b[0m\u001b[1;33m,\u001b[0m \u001b[0my0\u001b[0m\u001b[1;33m\u001b[0m\u001b[1;33m\u001b[0m\u001b[0m\n",
      "\u001b[1;32mc:\\users\\schick\\general\\python\\wpy64-3770\\python-3.7.7.amd64\\lib\\site-packages\\scipy\\integrate\\_ivp\\ivp.py\u001b[0m in \u001b[0;36m<lambda>\u001b[1;34m(t, x, fun)\u001b[0m\n\u001b[0;32m    513\u001b[0m         \u001b[1;31m# additional parameters.  Pass in the original fun as a keyword\u001b[0m\u001b[1;33m\u001b[0m\u001b[1;33m\u001b[0m\u001b[1;33m\u001b[0m\u001b[0m\n\u001b[0;32m    514\u001b[0m         \u001b[1;31m# argument to keep it in the scope of the lambda.\u001b[0m\u001b[1;33m\u001b[0m\u001b[1;33m\u001b[0m\u001b[1;33m\u001b[0m\u001b[0m\n\u001b[1;32m--> 515\u001b[1;33m         \u001b[0mfun\u001b[0m \u001b[1;33m=\u001b[0m \u001b[1;32mlambda\u001b[0m \u001b[0mt\u001b[0m\u001b[1;33m,\u001b[0m \u001b[0mx\u001b[0m\u001b[1;33m,\u001b[0m \u001b[0mfun\u001b[0m\u001b[1;33m=\u001b[0m\u001b[0mfun\u001b[0m\u001b[1;33m:\u001b[0m \u001b[0mfun\u001b[0m\u001b[1;33m(\u001b[0m\u001b[0mt\u001b[0m\u001b[1;33m,\u001b[0m \u001b[0mx\u001b[0m\u001b[1;33m,\u001b[0m \u001b[1;33m*\u001b[0m\u001b[0margs\u001b[0m\u001b[1;33m)\u001b[0m\u001b[1;33m\u001b[0m\u001b[1;33m\u001b[0m\u001b[0m\n\u001b[0m\u001b[0;32m    516\u001b[0m         \u001b[0mjac\u001b[0m \u001b[1;33m=\u001b[0m \u001b[0moptions\u001b[0m\u001b[1;33m.\u001b[0m\u001b[0mget\u001b[0m\u001b[1;33m(\u001b[0m\u001b[1;34m'jac'\u001b[0m\u001b[1;33m)\u001b[0m\u001b[1;33m\u001b[0m\u001b[1;33m\u001b[0m\u001b[0m\n\u001b[0;32m    517\u001b[0m         \u001b[1;32mif\u001b[0m \u001b[0mcallable\u001b[0m\u001b[1;33m(\u001b[0m\u001b[0mjac\u001b[0m\u001b[1;33m)\u001b[0m\u001b[1;33m:\u001b[0m\u001b[1;33m\u001b[0m\u001b[1;33m\u001b[0m\u001b[0m\n",
      "\u001b[1;32mc:\\users\\schick\\general\\git\\udkm1dsim\\udkm1Dsim\\simulations\\heat.py\u001b[0m in \u001b[0;36modefunc\u001b[1;34m(t, u, N, K, d_x_grid, x, thermal_conds, heat_capacities, sub_system_coupling, densities, indicies, dalpha_dz, fluence, delay_pump, pulse_length, bc_top_type, bc_top_value, bc_bottom_type, bc_bottom_value, pbar, state)\u001b[0m\n\u001b[0;32m   1105\u001b[0m         \u001b[1;31m# boundary conditions\u001b[0m\u001b[1;33m\u001b[0m\u001b[1;33m\u001b[0m\u001b[1;33m\u001b[0m\u001b[0m\n\u001b[0;32m   1106\u001b[0m         \u001b[1;32mif\u001b[0m \u001b[0mbc_top_type\u001b[0m \u001b[1;33m==\u001b[0m \u001b[1;36m1\u001b[0m\u001b[1;33m:\u001b[0m  \u001b[1;31m# temperature\u001b[0m\u001b[1;33m\u001b[0m\u001b[1;33m\u001b[0m\u001b[0m\n\u001b[1;32m-> 1107\u001b[1;33m             \u001b[0mu\u001b[0m\u001b[1;33m[\u001b[0m\u001b[1;36m0\u001b[0m\u001b[1;33m,\u001b[0m \u001b[1;33m:\u001b[0m\u001b[1;33m]\u001b[0m \u001b[1;33m=\u001b[0m \u001b[0mbc_top_value\u001b[0m\u001b[1;33m[\u001b[0m\u001b[1;33m:\u001b[0m\u001b[1;33m]\u001b[0m\u001b[1;33m\u001b[0m\u001b[1;33m\u001b[0m\u001b[0m\n\u001b[0m\u001b[0;32m   1108\u001b[0m         \u001b[1;32melif\u001b[0m \u001b[0mbc_top_type\u001b[0m \u001b[1;33m==\u001b[0m \u001b[1;36m2\u001b[0m\u001b[1;33m:\u001b[0m  \u001b[1;31m# flux\u001b[0m\u001b[1;33m\u001b[0m\u001b[1;33m\u001b[0m\u001b[0m\n\u001b[0;32m   1109\u001b[0m             dudt[0, :] = ((ks[0, :]*(u[1, :] - u[0, :])/d_x_grid[0]\n",
      "\u001b[1;31mIndexError\u001b[0m: too many indices for array"
     ]
    }
   ],
   "source": [
    "# The resulting temperature profile is calculated in one line:\n",
    "temp_map, delta_temp = h.get_temp_map(delays, 300*u.K)"
   ]
  },
  {
   "cell_type": "code",
   "execution_count": null,
   "metadata": {},
   "outputs": [],
   "source": [
    "plt.figure(figsize=[6, 8])\n",
    "plt.subplot(2, 1, 1)\n",
    "plt.plot(distances.to('nm').magnitude, temp_map[101, :], label=np.round(delays[101]))\n",
    "plt.plot(distances.to('nm').magnitude, temp_map[501, :], label=np.round(delays[501]))\n",
    "plt.plot(distances.to('nm').magnitude, temp_map[-1, :], label=np.round(delays[-1]))\n",
    "plt.xlim([0, distances.to('nm').magnitude[-1]])\n",
    "plt.xlabel('Distance [nm]')\n",
    "plt.ylabel('Temperature [K]')\n",
    "plt.legend()\n",
    "plt.title('Temperature Profile with Heat Diffusion and BC')\n",
    "\n",
    "plt.subplot(2, 1, 2)\n",
    "plt.pcolormesh(distances.to('nm').magnitude, delays.to('ps').magnitude, temp_map)\n",
    "plt.colorbar()\n",
    "plt.xlabel('Distance [nm]')\n",
    "plt.ylabel('Delay [ps]')\n",
    "plt.title('Temperature Map with Heat Diffusion and BC')\n",
    "\n",
    "plt.tight_layout()\n",
    "plt.show()"
   ]
  },
  {
   "cell_type": "markdown",
   "metadata": {},
   "source": [
    "## Multipulse Excitation\n",
    "\n",
    "As already stated above, also multiple pulses of variable fluence, pulse width and, delay are possible.\n",
    "\n",
    "The heat diffusion simulation automatically splits the calculation in parts with and without excitation and adjusts the initial temporal step width according to the pulse width.\n",
    "Hence the solver does not miss any excitation pulses when adjusting its temporal step size.\n",
    "\n",
    "The temporal laser pulse profile is always assumed to be gaussian and the pulse width must be given as FWHM:"
   ]
  },
  {
   "cell_type": "code",
   "execution_count": null,
   "metadata": {},
   "outputs": [],
   "source": [
    "h.excitation = {'fluence': [5, 5, 5]*u.mJ/u.cm**2,\n",
    "                'delay_pump':  [0, 10, 20]*u.ps,\n",
    "                'pulse_width':  [0.1, 0.1, 0.1]*u.ps,\n",
    "                'multilayer_absorption': True,\n",
    "                'wavelength': 800*u.nm,\n",
    "                'theta': 45*u.deg}\n",
    "\n",
    "h.boundary_conditions = {'top_type': 'isolator', 'bottom_type': 'isolator'}"
   ]
  },
  {
   "cell_type": "code",
   "execution_count": null,
   "metadata": {},
   "outputs": [],
   "source": [
    "# The resulting temperature profile is calculated in one line:\n",
    "temp_map, delta_temp = h.get_temp_map(delays, 300*u.K)"
   ]
  },
  {
   "cell_type": "code",
   "execution_count": null,
   "metadata": {},
   "outputs": [],
   "source": [
    "plt.figure(figsize=[6, 8])\n",
    "plt.subplot(2, 1, 1)\n",
    "plt.plot(distances.to('nm').magnitude, temp_map[101, :], label=np.round(delays[101]))\n",
    "plt.plot(distances.to('nm').magnitude, temp_map[201, :], label=np.round(delays[201]))\n",
    "plt.plot(distances.to('nm').magnitude, temp_map[301, :], label=np.round(delays[301]))\n",
    "plt.plot(distances.to('nm').magnitude, temp_map[-1, :], label=np.round(delays[-1]))\n",
    "plt.xlim([0, distances.to('nm').magnitude[-1]])\n",
    "plt.xlabel('Distance [nm]')\n",
    "plt.ylabel('Temperature [K]')\n",
    "plt.legend()\n",
    "plt.title('Temperature Profile Multiplulse')\n",
    "\n",
    "plt.subplot(2, 1, 2)\n",
    "plt.pcolormesh(distances.to('nm').magnitude, delays.to('ps').magnitude, temp_map)\n",
    "plt.colorbar()\n",
    "plt.xlabel('Distance [nm]')\n",
    "plt.ylabel('Delay [ps]')\n",
    "plt.title('Temperature Map Multiplulse')\n",
    "\n",
    "plt.tight_layout()\n",
    "plt.show()"
   ]
  }
 ],
 "metadata": {
  "kernelspec": {
   "display_name": "Python 3",
   "language": "python",
   "name": "python3"
  },
  "language_info": {
   "codemirror_mode": {
    "name": "ipython",
    "version": 3
   },
   "file_extension": ".py",
   "mimetype": "text/x-python",
   "name": "python",
   "nbconvert_exporter": "python",
   "pygments_lexer": "ipython3",
   "version": "3.7.7"
  }
 },
 "nbformat": 4,
 "nbformat_minor": 4
}
