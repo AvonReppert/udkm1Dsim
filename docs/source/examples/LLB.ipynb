{
 "cells": [
  {
   "cell_type": "markdown",
   "id": "b8b93729-7ae5-4edb-8aaf-d4d32bd24caf",
   "metadata": {},
   "source": [
    "# Mean-Field Quantum Landau-Lifshitz-Bloch simulations"
   ]
  },
  {
   "cell_type": "markdown",
   "id": "cf660cae-16c0-4450-8f27-8977ad536895",
   "metadata": {
    "tags": []
   },
   "source": [
    "Mean-Field Quantum Landau-Lifshitz-Bloch simulations"
   ]
  },
  {
   "cell_type": "markdown",
   "id": "cd4c34ca-9054-4dc2-9f36-66065e7f9f65",
   "metadata": {},
   "source": [
    "## Setup\n",
    "\n",
    "Do all necessary imports and settings."
   ]
  },
  {
   "cell_type": "code",
   "execution_count": 1,
   "id": "92d3431e-2b84-4f20-93a6-1709d275af9f",
   "metadata": {
    "tags": []
   },
   "outputs": [],
   "source": [
    "%load_ext autoreload\n",
    "%autoreload 2\n",
    "\n",
    "import udkm1Dsim as ud\n",
    "u = ud.u  # import the pint unit registry from udkm1Dsim\n",
    "import scipy.constants as constants\n",
    "import numpy as np\n",
    "import time\n",
    "import matplotlib.pyplot as plt\n",
    "%matplotlib inline\n",
    "u.setup_matplotlib()  # use matplotlib with pint units"
   ]
  },
  {
   "cell_type": "markdown",
   "id": "3767f02e-ae8e-4cb6-b12f-a13e76b710bc",
   "metadata": {},
   "source": [
    "## Structure\n",
    "\n",
    " to the [structure-example](structure.ipynb) for more details."
   ]
  },
  {
   "cell_type": "code",
   "execution_count": 2,
   "id": "bf76219d-f422-456e-b5cc-33e5ce7f1c15",
   "metadata": {
    "tags": []
   },
   "outputs": [],
   "source": [
    "Co = ud.Atom('Co')\n",
    "Ni = ud.Atom('Ni')\n",
    "Fe = ud.Atom('Fe')\n",
    "Si = ud.Atom('Si')"
   ]
  },
  {
   "cell_type": "code",
   "execution_count": 3,
   "id": "4ca2fc14-5504-4fee-9fe4-040abfc886a1",
   "metadata": {
    "tags": []
   },
   "outputs": [
    {
     "name": "stdout",
     "output_type": "stream",
     "text": [
      "Number of subsystems changed from 1 to 2.\n"
     ]
    }
   ],
   "source": [
    "prop_Ni = {}\n",
    "prop_Ni['heat_capacity'] = ['0.1*T',\n",
    "                              532*u.J/u.kg/u.K,\n",
    "                             ]\n",
    "prop_Ni['therm_cond'] = [20*u.W/(u.m*u.K),\n",
    "                           80*u.W/(u.m*u.K),]\n",
    "\n",
    "prop_Ni['aniso_exponents'] = [1, 2, 3]\n",
    "\n",
    "R = 25.3/1e-12\n",
    "Tc = 1388\n",
    "g = 4.0e18\n",
    "\n",
    "prop_Ni['sub_system_coupling'] = \\\n",
    "    ['-{:f}*(T_0-T_1)'.format(g),\n",
    "     '{:f}*(T_0-T_1)'.format(g)\n",
    "    ]\n",
    "prop_Ni['lin_therm_exp'] = [0, 11.8e-6]\n",
    "prop_Ni['sound_vel'] = 4.910*u.nm/u.ps\n",
    "prop_Ni['opt_ref_index'] = 2.9174+3.3545j\n",
    "\n",
    "# LLB stuff\n",
    "prop_Ni['eff_spin'] = 0.5\n",
    "prop_Ni['curie_temp'] = 630*u.K\n",
    "prop_Ni['lamda'] = 0.005\n",
    "prop_Ni['mag_moment'] = 0.393*u.bohr_magneton\n",
    "prop_Ni['aniso_exponents'] = [0, 0, 3]\n",
    "prop_Ni['anisotropy'] = 0.45e6*u.J/u.m**3\n",
    "prop_Ni['exch_stiffness'] = 1e-11*u.J/u.m\n",
    "prop_Ni['mag_saturation'] = 500e3*u.J/u.T/u.m**3\n",
    "\n",
    "layer_Ni = ud.AmorphousLayer('Ni', 'Ni amorphous', thickness=1*u.nm,\n",
    "                             density=7000*u.kg/u.m**3, atom=Ni, **prop_Ni)"
   ]
  },
  {
   "cell_type": "code",
   "execution_count": 4,
   "id": "959d687a-cc4b-45a0-9f1b-166ac82fc503",
   "metadata": {
    "tags": []
   },
   "outputs": [
    {
     "name": "stdout",
     "output_type": "stream",
     "text": [
      "Number of subsystems changed from 1 to 2.\n"
     ]
    }
   ],
   "source": [
    "prop_Co = {}\n",
    "prop_Co['heat_capacity'] = ['0.1*T',\n",
    "                              332*u.J/u.kg/u.K,\n",
    "                             ]\n",
    "prop_Co['therm_cond'] = [20*u.W/(u.m*u.K),\n",
    "                           80*u.W/(u.m*u.K),]\n",
    "\n",
    "prop_Co['aniso_exponents'] = [1, 2, 3]\n",
    "\n",
    "R = 25.3/1e-12\n",
    "Tc = 1388\n",
    "g = 5.0e18\n",
    "\n",
    "prop_Co['sub_system_coupling'] = \\\n",
    "    ['-{:f}*(T_0-T_1)'.format(g),\n",
    "     '{:f}*(T_0-T_1)'.format(g)\n",
    "    ]\n",
    "prop_Co['lin_therm_exp'] = [0, 11.8e-6]\n",
    "prop_Co['sound_vel'] = 4.910*u.nm/u.ps\n",
    "prop_Co['opt_ref_index'] = 2.9174+3.3545j\n",
    "\n",
    "# LLB stuff\n",
    "prop_Co['eff_spin'] = 1e6\n",
    "prop_Co['curie_temp'] = 1480*u.K\n",
    "prop_Co['lamda'] = 0.005\n",
    "prop_Co['mag_moment'] = 0.393*u.bohr_magneton\n",
    "prop_Co['aniso_exponents'] = [0, 0, 3]\n",
    "prop_Co['anisotropy'] = 0.45e6*u.J/u.m**3\n",
    "prop_Co['exch_stiffness'] = 1e-11*u.J/u.m\n",
    "prop_Co['mag_saturation'] = 1400e3*u.J/u.T/u.m**3\n",
    "\n",
    "layer_Co = ud.AmorphousLayer('Co', 'Co amorphous', thickness=1*u.nm,\n",
    "                             density=7000*u.kg/u.m**3, atom=Co, **prop_Co)"
   ]
  },
  {
   "cell_type": "code",
   "execution_count": 5,
   "id": "c8f98723-2ea7-4144-80dc-c157d50d916c",
   "metadata": {
    "tags": []
   },
   "outputs": [
    {
     "name": "stdout",
     "output_type": "stream",
     "text": [
      "Amorphous layer with the following properties\n",
      "\n",
      "=============================  ==========================================\n",
      "                    parameter  value\n",
      "=============================  ==========================================\n",
      "                           id  Co\n",
      "                         name  Co amorphous\n",
      "                    thickness  1.0 nm\n",
      "                         area  0.01 nm²\n",
      "                       volume  0.01 nm³\n",
      "                         mass  7×10⁻²⁶ kg\n",
      "           mass per unit area  7×10⁻²⁶ kg\n",
      "                      density  7×10³ kg/m³\n",
      "                    roughness  0.0 nm\n",
      "          Debye Waller Factor  0 m²\n",
      "               sound velocity  4.91×10³ m/s\n",
      "              spring constant  [1.6875670000000007] kg/s²\n",
      "               phonon damping  0.0 kg/s\n",
      "              opt. pen. depth  0.0 nm\n",
      "        opt. refractive index  (2.9174+3.3545j)\n",
      "       opt. ref. index/strain  0\n",
      "             thermal conduct.  20.0 W/(m K)\n",
      "                               80.0 W/(m K)\n",
      "     linear thermal expansion  0\n",
      "                               1.18e-05\n",
      "                heat capacity  0.1*T J/(kg K)\n",
      "                               332.0 J/(kg K)\n",
      "           subsystem coupling  -5000000000000000000.000000*(T_0-T_1) W/m³\n",
      "                               5000000000000000000.000000*(T_0-T_1) W/m³\n",
      "               effective spin  1000000.0\n",
      "            Curie temperature  1.48×10³ K\n",
      "    mean-field exch. coupling  6.130075429924571×10⁻²⁰ kg·m²/s²\n",
      "   coupling to bath parameter  0.005\n",
      "       atomic magnetic moment  0.393 µ_B\n",
      "uniaxial anisotropy exponents  [0. 0. 3.]\n",
      "                   anisotropy  450000.0 J/m³\n",
      "           exchange stiffness  1×10⁻¹¹ J/m\n",
      "     saturation magnetization  1400000.0 J/T/m³\n",
      "                         atom  Cobalt\n",
      "                magnetization\n",
      "                    amplitude  0\n",
      "                      phi [°]  0.0 deg\n",
      "                    gamma [°]  0.0 deg\n",
      "=============================  ==========================================\n"
     ]
    }
   ],
   "source": [
    "print(layer_Co)"
   ]
  },
  {
   "cell_type": "code",
   "execution_count": 6,
   "id": "fb894e96-91e6-4553-95f2-ae208d3089e4",
   "metadata": {
    "tags": []
   },
   "outputs": [
    {
     "name": "stdout",
     "output_type": "stream",
     "text": [
      "Number of subsystems changed from 1 to 2.\n"
     ]
    }
   ],
   "source": [
    "prop_Fe = {}\n",
    "prop_Fe['heat_capacity'] = ['0.1*T',\n",
    "                              732*u.J/u.kg/u.K,\n",
    "                             ]\n",
    "prop_Fe['therm_cond'] = [20*u.W/(u.m*u.K),\n",
    "                           80*u.W/(u.m*u.K),]\n",
    "\n",
    "prop_Fe['aniso_exponents'] = [1, 2, 3]\n",
    "\n",
    "R = 25.3/1e-12\n",
    "Tc = 1388\n",
    "g = 6.0e18\n",
    "\n",
    "prop_Fe['sub_system_coupling'] = \\\n",
    "    ['-{:f}*(T_0-T_1)'.format(g),\n",
    "     '{:f}*(T_0-T_1)'.format(g)\n",
    "    ]\n",
    "prop_Fe['lin_therm_exp'] = [0, 11.8e-6]\n",
    "prop_Fe['sound_vel'] = 4.910*u.nm/u.ps\n",
    "prop_Fe['opt_ref_index'] = 2.9174+3.3545j\n",
    "\n",
    "# LLB stuff\n",
    "prop_Fe['eff_spin'] = 2\n",
    "prop_Fe['curie_temp'] = 1024*u.K\n",
    "prop_Fe['lamda'] = 0.005\n",
    "prop_Fe['mag_moment'] = 2.2*u.bohr_magneton\n",
    "prop_Fe['aniso_exponents'] = [0, 0, 3]\n",
    "prop_Fe['anisotropy'] = 0.45e6*u.J/u.m**3\n",
    "prop_Fe['exch_stiffness'] = 1e-11*u.J/u.m\n",
    "prop_Fe['mag_saturation'] = 200e3*u.J/u.T/u.m**3\n",
    "\n",
    "layer_Fe = ud.AmorphousLayer('Fe', 'Fe amorphous', thickness=1*u.nm,\n",
    "                             density=7000*u.kg/u.m**3, atom=Fe, **prop_Fe)"
   ]
  },
  {
   "cell_type": "code",
   "execution_count": 7,
   "id": "645ee3c5-01aa-458a-b8f4-93c99ecf7a2b",
   "metadata": {
    "tags": []
   },
   "outputs": [
    {
     "name": "stdout",
     "output_type": "stream",
     "text": [
      "Number of subsystems changed from 1 to 2.\n"
     ]
    }
   ],
   "source": [
    "prop_Si = {}\n",
    "prop_Si['heat_capacity'] = [100*u.J/u.kg/u.K, 603*u.J/u.kg/u.K]\n",
    "prop_Si['therm_cond'] = [0, 100*u.W/(u.m*u.K)]\n",
    "\n",
    "prop_Si['sub_system_coupling'] = [0, 0]\n",
    "\n",
    "prop_Si['lin_therm_exp'] = [0, 2.6e-6]\n",
    "prop_Si['sound_vel'] = 8.433*u.nm/u.ps\n",
    "prop_Si['opt_ref_index'] = 3.6941+0.0065435j\n",
    "\n",
    "layer_Si = ud.AmorphousLayer('Si', \"Si amorphous\", thickness=1*u.nm, density=2336*u.kg/u.m**3,\n",
    "                             atom=Si, **prop_Si)"
   ]
  },
  {
   "cell_type": "code",
   "execution_count": 170,
   "id": "d93b60d2-c329-4c2a-aed0-3466ff0cefdb",
   "metadata": {
    "tags": []
   },
   "outputs": [],
   "source": [
    "S = ud.Structure('CoNi')\n",
    "\n",
    "S.add_sub_structure(layer_Ni, 10)\n",
    "S.add_sub_structure(layer_Co, 15)\n",
    "S.add_sub_structure(layer_Fe, 10)\n",
    "S.add_sub_structure(layer_Ni, 25)\n",
    "# S.add_sub_structure(layer_Si, 250)"
   ]
  },
  {
   "cell_type": "code",
   "execution_count": 171,
   "id": "256ee59a-a00a-42bf-8035-05417317b644",
   "metadata": {
    "tags": []
   },
   "outputs": [
    {
     "data": {
      "image/png": "[encoded data removed]",
      "text/plain": [
       "<Figure size 1440x72 with 1 Axes>"
      ]
     },
     "metadata": {
      "needs_background": "light"
     },
     "output_type": "display_data"
    }
   ],
   "source": [
    "S.visualize()"
   ]
  },
  {
   "cell_type": "code",
   "execution_count": null,
   "id": "94b9bf7c-3567-49ea-9313-aa2a57203c28",
   "metadata": {},
   "outputs": [],
   "source": []
  },
  {
   "cell_type": "markdown",
   "id": "2ebb7482-edd9-4287-9d16-39bfc9003ffa",
   "metadata": {},
   "source": [
    "## Initialize Heat and the Excitation"
   ]
  },
  {
   "cell_type": "code",
   "execution_count": 172,
   "id": "ff2c8311-3140-4028-8eb3-eca39514d3fd",
   "metadata": {
    "tags": []
   },
   "outputs": [],
   "source": [
    "h = ud.Heat(S, True)\n",
    "\n",
    "h.save_data = False\n",
    "h.disp_messages = True"
   ]
  },
  {
   "cell_type": "code",
   "execution_count": 173,
   "id": "e46146bb-ac15-4cc5-8372-d3448f1988d0",
   "metadata": {
    "tags": []
   },
   "outputs": [],
   "source": [
    "h.excitation = {'fluence': [1]*u.mJ/u.cm**2,\n",
    "                'delay_pump':  [0]*u.ps,\n",
    "                'pulse_width':  [0.15]*u.ps,\n",
    "                'multilayer_absorption': True,\n",
    "                'wavelength': 800*u.nm,\n",
    "                'theta': 45*u.deg}\n",
    "# temporal and spatial grid\n",
    "delays = np.r_[-10:10:0.05, 10:100:0.5, 100:1000:5]*u.ps\n",
    "_, _, distances = S.get_distances_of_layers()"
   ]
  },
  {
   "cell_type": "markdown",
   "id": "77e5ba0a-3b94-4539-9659-f13112805e3c",
   "metadata": {},
   "source": [
    "## Calculate Heat Diffusion"
   ]
  },
  {
   "cell_type": "code",
   "execution_count": 174,
   "id": "daf4037c-bb4d-470c-b18e-2ccb68860b7f",
   "metadata": {
    "tags": []
   },
   "outputs": [
    {
     "name": "stdout",
     "output_type": "stream",
     "text": [
      "Surface incidence fluence scaled by factor 0.7071 due to incidence angle theta=45.00 deg\n",
      "Calculating _heat_diffusion_ for excitation 1:1 ...\n",
      "Absorption profile is calculated by multilayer formalism.\n",
      "Total reflectivity of 44.4 % and transmission of 8.6 %.\n"
     ]
    },
    {
     "data": {
      "application/json": {
       "ascii": false,
       "bar_format": null,
       "colour": null,
       "elapsed": 0.020258426666259766,
       "initial": 0,
       "n": 0,
       "ncols": null,
       "nrows": 29,
       "postfix": null,
       "prefix": "",
       "rate": null,
       "total": null,
       "unit": "it",
       "unit_divisor": 1000,
       "unit_scale": false
      },
      "application/vnd.jupyter.widget-view+json": {
       "model_id": "432a1001912c4dcbbe605875eccdcb0f",
       "version_major": 2,
       "version_minor": 0
      },
      "text/plain": [
       "0it [00:00, ?it/s]"
      ]
     },
     "metadata": {},
     "output_type": "display_data"
    },
    {
     "name": "stdout",
     "output_type": "stream",
     "text": [
      "Elapsed time for _heat_diffusion_ with 1 excitation(s): 3.004600 s\n",
      "Calculating _heat_diffusion_ without excitation...\n"
     ]
    },
    {
     "data": {
      "application/json": {
       "ascii": false,
       "bar_format": null,
       "colour": null,
       "elapsed": 0.020604610443115234,
       "initial": 0,
       "n": 0,
       "ncols": null,
       "nrows": 29,
       "postfix": null,
       "prefix": "",
       "rate": null,
       "total": null,
       "unit": "it",
       "unit_divisor": 1000,
       "unit_scale": false
      },
      "application/vnd.jupyter.widget-view+json": {
       "model_id": "636d7bad16a7452ba380476819acb25d",
       "version_major": 2,
       "version_minor": 0
      },
      "text/plain": [
       "0it [00:00, ?it/s]"
      ]
     },
     "metadata": {},
     "output_type": "display_data"
    },
    {
     "name": "stdout",
     "output_type": "stream",
     "text": [
      "Elapsed time for _heat_diffusion_: 2.060322 s\n",
      "Elapsed time for _temp_map_: 5.112667 s\n"
     ]
    }
   ],
   "source": [
    "# enable heat diffusion\n",
    "h.heat_diffusion = True\n",
    "# set the boundary conditions\n",
    "h.boundary_conditions = {'top_type': 'isolator', 'bottom_type': 'isolator'}\n",
    "# The resulting temperature profile is calculated in one line:\n",
    "\n",
    "temp_map, delta_temp = h.get_temp_map(delays, 300)"
   ]
  },
  {
   "cell_type": "code",
   "execution_count": 175,
   "id": "2b5e183e-fb49-48ef-84a7-11e68411d953",
   "metadata": {
    "tags": []
   },
   "outputs": [
    {
     "data": {
      "image/png": "[encoded data removed]",
      "text/plain": [
       "<Figure size 432x576 with 4 Axes>"
      ]
     },
     "metadata": {
      "needs_background": "light"
     },
     "output_type": "display_data"
    }
   ],
   "source": [
    "plt.figure(figsize=[6, 8])\n",
    "plt.subplot(2, 1, 1)\n",
    "plt.pcolormesh(distances.to('nm').magnitude, delays.to('ps').magnitude, temp_map[:, :, 0],\n",
    "               shading='auto')\n",
    "plt.colorbar()\n",
    "plt.xlabel('Distance [nm]')\n",
    "plt.ylabel('Delay [ps]')\n",
    "plt.title('Temperature Map Electrons')\n",
    "\n",
    "plt.subplot(2, 1, 2)\n",
    "plt.pcolormesh(distances.to('nm').magnitude, delays.to('ps').magnitude, temp_map[:, :, 1],\n",
    "               shading='auto')\n",
    "plt.colorbar()\n",
    "plt.xlabel('Distance [nm]')\n",
    "plt.ylabel('Delay [ps]')\n",
    "plt.title('Temperature Map Phonons')\n",
    "\n",
    "plt.tight_layout()\n",
    "plt.show()"
   ]
  },
  {
   "cell_type": "markdown",
   "id": "5dda2842-980f-4bcc-82b2-08de983a504a",
   "metadata": {},
   "source": [
    "## Magnetization"
   ]
  },
  {
   "cell_type": "code",
   "execution_count": 190,
   "id": "fb4748eb-757a-456b-a56c-de670aa9ab97",
   "metadata": {
    "tags": []
   },
   "outputs": [
    {
     "name": "stdout",
     "output_type": "stream",
     "text": [
      "Landau-Lifshitz-Bloch Magnetization Dynamics simulation properties:\n",
      "\n",
      "Magnetization simulation properties:\n",
      "\n",
      "This is the current structure for the simulations:\n",
      "\n",
      "Structure properties:\n",
      "\n",
      "Name   : CoNi\n",
      "Thickness : 60.00 nanometer\n",
      "Roughness : 0.00 nanometer\n",
      "----\n",
      "10 times Ni amorphous: 10.00 nanometer\n",
      "15 times Co amorphous: 15.00 nanometer\n",
      "10 times Fe amorphous: 10.00 nanometer\n",
      "25 times Ni amorphous: 25.00 nanometer\n",
      "----\n",
      "no substrate\n",
      "\n",
      "\n",
      "Display properties:\n",
      "\n",
      "================  =======\n",
      "       parameter  value\n",
      "================  =======\n",
      "    force recalc  True\n",
      " cache directory  ./\n",
      "display messages  True\n",
      "       save data  False\n",
      "    progress bar  True\n",
      "================  =======\n"
     ]
    }
   ],
   "source": [
    "mag = ud.LLB(S, True)\n",
    "mag.save_data = False\n",
    "print(mag)"
   ]
  },
  {
   "cell_type": "code",
   "execution_count": 191,
   "id": "d777e0fa-f9e8-4358-b841-bfb8d2412319",
   "metadata": {
    "tags": []
   },
   "outputs": [
    {
     "data": {
      "text/plain": [
       "{'method': 'RK45',\n",
       " 'first_step': None,\n",
       " 'max_step': inf,\n",
       " 'rtol': 0.001,\n",
       " 'atol': 1e-06}"
      ]
     },
     "execution_count": 191,
     "metadata": {},
     "output_type": "execute_result"
    }
   ],
   "source": [
    "mag.ode_options"
   ]
  },
  {
   "cell_type": "code",
   "execution_count": 194,
   "id": "4471c839-e43d-4b67-a27b-3290f5bb6ce6",
   "metadata": {
    "tags": []
   },
   "outputs": [
    {
     "name": "stdout",
     "output_type": "stream",
     "text": [
      "Calculating _magnetization_map_ ...\n",
      "no initial magnetization given\n",
      "Elapsed time for _magnetization_map_: 0.002511 s\n"
     ]
    }
   ],
   "source": [
    "magnetization_map = mag.get_magnetization_map(delays, temp_map=temp_map,\n",
    "                                              H_ext=np.array([0.01, 0.01, 0.5]))"
   ]
  },
  {
   "cell_type": "code",
   "execution_count": 184,
   "id": "a69aec0c-bfc8-4416-b8ba-b7c19d73ca6e",
   "metadata": {
    "tags": []
   },
   "outputs": [
    {
     "data": {
      "image/png": "[encoded data removed]",
      "text/plain": [
       "<Figure size 432x864 with 6 Axes>"
      ]
     },
     "metadata": {
      "needs_background": "light"
     },
     "output_type": "display_data"
    }
   ],
   "source": [
    "plt.figure(figsize=[6, 12])\n",
    "plt.subplot(3, 1, 1)\n",
    "plt.pcolormesh(distances.to('nm').magnitude, delays.to('ps').magnitude, magnetization_map[:, :, 0],\n",
    "               shading='auto')\n",
    "plt.colorbar()\n",
    "plt.xlabel('Distance [nm]')\n",
    "plt.ylabel('Delay [ps]')\n",
    "plt.title('M_x')\n",
    "\n",
    "plt.subplot(3, 1, 2)\n",
    "plt.pcolormesh(distances.to('nm').magnitude, delays.to('ps').magnitude, magnetization_map[:, :, 1],\n",
    "               shading='auto')\n",
    "plt.colorbar()\n",
    "plt.xlabel('Distance [nm]')\n",
    "plt.ylabel('Delay [ps]')\n",
    "plt.title('M_y')\n",
    "\n",
    "plt.subplot(3, 1, 3)\n",
    "plt.pcolormesh(distances.to('nm').magnitude, delays.to('ps').magnitude, magnetization_map[:, :, 2],\n",
    "               shading='auto')\n",
    "plt.colorbar()\n",
    "plt.xlabel('Distance [nm]')\n",
    "plt.ylabel('Delay [ps]')\n",
    "plt.title('M_z')\n",
    "\n",
    "plt.tight_layout()\n",
    "plt.show()"
   ]
  },
  {
   "cell_type": "code",
   "execution_count": 185,
   "id": "9a26a4fc-ec9a-4658-8601-52b55a5a29c5",
   "metadata": {
    "tags": []
   },
   "outputs": [
    {
     "data": {
      "image/png": "[encoded data removed]",
      "text/plain": [
       "<Figure size 432x288 with 1 Axes>"
      ]
     },
     "metadata": {
      "needs_background": "light"
     },
     "output_type": "display_data"
    }
   ],
   "source": [
    "plt.figure()\n",
    "plt.plot(delays, np.mean(magnetization_map[:, 0:10, 0], axis=1), label=r'$M_x$')\n",
    "plt.plot(delays, np.mean(magnetization_map[:, 0:10, 1], axis=1), label=r'$M_y$')\n",
    "plt.plot(delays, np.mean(magnetization_map[:, 0:10, 2], axis=1), label=r'$M_z$')\n",
    "plt.legend()\n",
    "plt.xlabel('Delay (ps)')\n",
    "plt.ylabel('Magnetization')\n",
    "plt.show()"
   ]
  },
  {
   "cell_type": "markdown",
   "id": "3debb747-bd23-4233-8f3b-e57e350be559",
   "metadata": {
    "tags": []
   },
   "source": [
    "## generate mf-field magnetization map\n",
    "\n",
    "This function computes the mean field mean magnetization map by solving the self-consistent equation m=B(m, T)\n",
    "As an output we get an interpolation function of the mean field magnetization at any temperature T<=T_c (this can of course be extended to T>T_c with zeros)."
   ]
  },
  {
   "cell_type": "markdown",
   "id": "2093baf9-13ea-4374-a166-4dcb0263265a",
   "metadata": {},
   "source": [
    "### Brillouin function"
   ]
  },
  {
   "cell_type": "code",
   "execution_count": 159,
   "id": "48715d50-de7f-4dd2-a2b6-5ff2f1626553",
   "metadata": {
    "tags": []
   },
   "outputs": [],
   "source": [
    "import scipy.constants as constants\n",
    "\n",
    "def Brillouin(m, T, eff_spins, mf_exch_couplings, curie_temps):\n",
    "    eta = mf_exch_couplings * m / constants.k / T / curie_temps\n",
    "    c1 = (2 * eff_spins + 1) / (2 * eff_spins)\n",
    "    c2 = 1 / (2 * eff_spins)\n",
    "    return c1 / np.tanh(c1 * eta) - c2 / np.tanh(c2 * eta)"
   ]
  },
  {
   "cell_type": "code",
   "execution_count": 160,
   "id": "47880bb1-a479-4753-b7a3-1fef256d7644",
   "metadata": {
    "tags": []
   },
   "outputs": [
    {
     "data": {
      "text/plain": [
       "array([0.00077377, 0.00077467, 0.00077643, 0.00077906, 0.00078256,\n",
       "       0.00078694, 0.00079218, 0.00079829, 0.00080526, 0.00081308,\n",
       "       0.00082169, 0.00083111, 0.0008413 , 0.00085221, 0.00086384,\n",
       "       0.00087617, 0.00088921, 0.00090296, 0.0009174 , 0.00093252,\n",
       "       0.00094833, 0.0009648 , 0.00098192, 0.00099965, 0.00101797,\n",
       "       0.00103679, 0.00105604, 0.00107558, 0.00109531, 0.0011151 ,\n",
       "       0.00113482, 0.00115436, 0.00117359, 0.00119238, 0.00121064,\n",
       "       0.00122829, 0.00124546, 0.00126215, 0.00127831, 0.00129388,\n",
       "       0.00130882, 0.0013231 , 0.00133669, 0.00134956, 0.0013617 ,\n",
       "       0.00137308, 0.0013837 , 0.00139355, 0.00140263, 0.00141094,\n",
       "       0.00141847, 0.00142522, 0.0014312 , 0.00143642, 0.00144087,\n",
       "       0.00144456, 0.00144749, 0.00144966, 0.00145107, 0.00145173])"
      ]
     },
     "execution_count": 160,
     "metadata": {},
     "output_type": "execute_result"
    }
   ],
   "source": [
    "eff_spins = S.get_layer_property_vector('eff_spin')\n",
    "mf_exch_couplings = S.get_layer_property_vector('mf_exch_coupling')\n",
    "curie_temps = S.get_layer_property_vector('_curie_temp')\n",
    "\n",
    "Brillouin(0.5, temp_map[1000, :, 0], eff_spins, mf_exch_couplings, curie_temps)"
   ]
  },
  {
   "cell_type": "code",
   "execution_count": 171,
   "id": "2e698277-91c7-4999-ba7a-60fd55162f2c",
   "metadata": {
    "tags": []
   },
   "outputs": [
    {
     "name": "stdout",
     "output_type": "stream",
     "text": [
      "0.090587 s\n"
     ]
    },
    {
     "name": "stderr",
     "output_type": "stream",
     "text": [
      "C:\\Users\\LOC_SC~1\\AppData\\Local\\Temp/ipykernel_42820/4042847752.py:4: RuntimeWarning: divide by zero encountered in divide\n",
      "  eta = mf_exch_couplings * m / constants.k / T / curie_temps\n",
      "C:\\Users\\LOC_SC~1\\AppData\\Local\\Temp/ipykernel_42820/4042847752.py:7: RuntimeWarning: divide by zero encountered in divide\n",
      "  return c1 / np.tanh(c1 * eta) - c2 / np.tanh(c2 * eta)\n",
      "C:\\Users\\LOC_SC~1\\AppData\\Local\\Temp/ipykernel_42820/4042847752.py:7: RuntimeWarning: invalid value encountered in subtract\n",
      "  return c1 / np.tanh(c1 * eta) - c2 / np.tanh(c2 * eta)\n"
     ]
    }
   ],
   "source": [
    "from scipy.optimize import fsolve\n",
    "\n",
    "#def find_intersection_sp(m, Bm, m0):\n",
    "#    return fsolve(lambda x: m(x) - Bm(x), m0)\n",
    "\n",
    "N = 1 #S.get_number_of_layers()\n",
    "M = len(delays)\n",
    "\n",
    "mf_mag_map = np.zeros([M, N])\n",
    "\n",
    "t1 = time.time()\n",
    "for i in range(N):\n",
    "    for j in range(M):\n",
    "        T = j/curie_temps[i] # temp_map[j, i, 0]/curie_temps[i]\n",
    "        if T > 1:\n",
    "            mf_mag_map[j, i] = 0\n",
    "        else:\n",
    "            mf_mag_map[j, i] = fsolve(lambda x: x - Brillouin(x, T, eff_spins[i],\n",
    "                                                              mf_exch_couplings[i],\n",
    "                                                              curie_temps[i]), np.sqrt(1-T))\n",
    "\n",
    "t2 = time.time()\n",
    "print('{:f} s'.format(t2-t1))"
   ]
  },
  {
   "cell_type": "code",
   "execution_count": 173,
   "id": "1811e677-d802-4f7b-aa6c-d086887ee81c",
   "metadata": {
    "tags": []
   },
   "outputs": [
    {
     "data": {
      "image/png": "[encoded data removed]",
      "text/plain": [
       "<Figure size 432x288 with 1 Axes>"
      ]
     },
     "metadata": {
      "needs_background": "light"
     },
     "output_type": "display_data"
    }
   ],
   "source": [
    "plt.figure()\n",
    "plt.plot(mf_mag_map)\n",
    "plt.show()"
   ]
  },
  {
   "cell_type": "code",
   "execution_count": null,
   "id": "e851b1d3-5937-41bf-9214-dd1ae46b4112",
   "metadata": {},
   "outputs": [],
   "source": []
  },
  {
   "cell_type": "code",
   "execution_count": 166,
   "id": "1feffff8-c0f9-42df-9a3d-32c6792772bd",
   "metadata": {
    "tags": []
   },
   "outputs": [
    {
     "ename": "TypeError",
     "evalue": "Dimensions of C (1200, 1) should be one smaller than X(60) and Y(1200) while using shading='flat' see help(pcolormesh)",
     "output_type": "error",
     "traceback": [
      "\u001b[1;31m---------------------------------------------------------------------------\u001b[0m",
      "\u001b[1;31mTypeError\u001b[0m                                 Traceback (most recent call last)",
      "\u001b[1;32mC:\\Users\\LOC_SC~1\\AppData\\Local\\Temp/ipykernel_42820/113784406.py\u001b[0m in \u001b[0;36m<module>\u001b[1;34m\u001b[0m\n\u001b[0;32m     11\u001b[0m \u001b[0mplt\u001b[0m\u001b[1;33m.\u001b[0m\u001b[0msubplot\u001b[0m\u001b[1;33m(\u001b[0m\u001b[1;36m2\u001b[0m\u001b[1;33m,\u001b[0m \u001b[1;36m1\u001b[0m\u001b[1;33m,\u001b[0m \u001b[1;36m2\u001b[0m\u001b[1;33m)\u001b[0m\u001b[1;33m\u001b[0m\u001b[1;33m\u001b[0m\u001b[0m\n\u001b[0;32m     12\u001b[0m \u001b[1;33m\u001b[0m\u001b[0m\n\u001b[1;32m---> 13\u001b[1;33m \u001b[0mplt\u001b[0m\u001b[1;33m.\u001b[0m\u001b[0mpcolormesh\u001b[0m\u001b[1;33m(\u001b[0m\u001b[0mdistances\u001b[0m\u001b[1;33m.\u001b[0m\u001b[0mto\u001b[0m\u001b[1;33m(\u001b[0m\u001b[1;34m'nm'\u001b[0m\u001b[1;33m)\u001b[0m\u001b[1;33m.\u001b[0m\u001b[0mmagnitude\u001b[0m\u001b[1;33m,\u001b[0m \u001b[0mdelays\u001b[0m\u001b[1;33m.\u001b[0m\u001b[0mto\u001b[0m\u001b[1;33m(\u001b[0m\u001b[1;34m'ps'\u001b[0m\u001b[1;33m)\u001b[0m\u001b[1;33m.\u001b[0m\u001b[0mmagnitude\u001b[0m\u001b[1;33m,\u001b[0m \u001b[0mmf_mag_map\u001b[0m\u001b[1;33m,\u001b[0m \u001b[0mshading\u001b[0m\u001b[1;33m=\u001b[0m\u001b[1;34m'auto'\u001b[0m\u001b[1;33m)\u001b[0m\u001b[1;33m\u001b[0m\u001b[1;33m\u001b[0m\u001b[0m\n\u001b[0m\u001b[0;32m     14\u001b[0m \u001b[0mplt\u001b[0m\u001b[1;33m.\u001b[0m\u001b[0mcolorbar\u001b[0m\u001b[1;33m(\u001b[0m\u001b[1;33m)\u001b[0m\u001b[1;33m\u001b[0m\u001b[1;33m\u001b[0m\u001b[0m\n\u001b[0;32m     15\u001b[0m \u001b[0mplt\u001b[0m\u001b[1;33m.\u001b[0m\u001b[0mxlabel\u001b[0m\u001b[1;33m(\u001b[0m\u001b[1;34m'Distance [nm]'\u001b[0m\u001b[1;33m)\u001b[0m\u001b[1;33m\u001b[0m\u001b[1;33m\u001b[0m\u001b[0m\n",
      "\u001b[1;32m~\\General\\Python\\WPy64-3890\\python-3.8.9.amd64\\lib\\site-packages\\matplotlib\\pyplot.py\u001b[0m in \u001b[0;36mpcolormesh\u001b[1;34m(alpha, norm, cmap, vmin, vmax, shading, antialiased, data, *args, **kwargs)\u001b[0m\n\u001b[0;32m   2744\u001b[0m         \u001b[0mvmax\u001b[0m\u001b[1;33m=\u001b[0m\u001b[1;32mNone\u001b[0m\u001b[1;33m,\u001b[0m \u001b[0mshading\u001b[0m\u001b[1;33m=\u001b[0m\u001b[1;32mNone\u001b[0m\u001b[1;33m,\u001b[0m \u001b[0mantialiased\u001b[0m\u001b[1;33m=\u001b[0m\u001b[1;32mFalse\u001b[0m\u001b[1;33m,\u001b[0m \u001b[0mdata\u001b[0m\u001b[1;33m=\u001b[0m\u001b[1;32mNone\u001b[0m\u001b[1;33m,\u001b[0m\u001b[1;33m\u001b[0m\u001b[1;33m\u001b[0m\u001b[0m\n\u001b[0;32m   2745\u001b[0m         **kwargs):\n\u001b[1;32m-> 2746\u001b[1;33m     __ret = gca().pcolormesh(\n\u001b[0m\u001b[0;32m   2747\u001b[0m         \u001b[1;33m*\u001b[0m\u001b[0margs\u001b[0m\u001b[1;33m,\u001b[0m \u001b[0malpha\u001b[0m\u001b[1;33m=\u001b[0m\u001b[0malpha\u001b[0m\u001b[1;33m,\u001b[0m \u001b[0mnorm\u001b[0m\u001b[1;33m=\u001b[0m\u001b[0mnorm\u001b[0m\u001b[1;33m,\u001b[0m \u001b[0mcmap\u001b[0m\u001b[1;33m=\u001b[0m\u001b[0mcmap\u001b[0m\u001b[1;33m,\u001b[0m \u001b[0mvmin\u001b[0m\u001b[1;33m=\u001b[0m\u001b[0mvmin\u001b[0m\u001b[1;33m,\u001b[0m\u001b[1;33m\u001b[0m\u001b[1;33m\u001b[0m\u001b[0m\n\u001b[0;32m   2748\u001b[0m         \u001b[0mvmax\u001b[0m\u001b[1;33m=\u001b[0m\u001b[0mvmax\u001b[0m\u001b[1;33m,\u001b[0m \u001b[0mshading\u001b[0m\u001b[1;33m=\u001b[0m\u001b[0mshading\u001b[0m\u001b[1;33m,\u001b[0m \u001b[0mantialiased\u001b[0m\u001b[1;33m=\u001b[0m\u001b[0mantialiased\u001b[0m\u001b[1;33m,\u001b[0m\u001b[1;33m\u001b[0m\u001b[1;33m\u001b[0m\u001b[0m\n",
      "\u001b[1;32m~\\General\\Python\\WPy64-3890\\python-3.8.9.amd64\\lib\\site-packages\\matplotlib\\__init__.py\u001b[0m in \u001b[0;36minner\u001b[1;34m(ax, data, *args, **kwargs)\u001b[0m\n\u001b[0;32m   1470\u001b[0m     \u001b[1;32mdef\u001b[0m \u001b[0minner\u001b[0m\u001b[1;33m(\u001b[0m\u001b[0max\u001b[0m\u001b[1;33m,\u001b[0m \u001b[1;33m*\u001b[0m\u001b[0margs\u001b[0m\u001b[1;33m,\u001b[0m \u001b[0mdata\u001b[0m\u001b[1;33m=\u001b[0m\u001b[1;32mNone\u001b[0m\u001b[1;33m,\u001b[0m \u001b[1;33m**\u001b[0m\u001b[0mkwargs\u001b[0m\u001b[1;33m)\u001b[0m\u001b[1;33m:\u001b[0m\u001b[1;33m\u001b[0m\u001b[1;33m\u001b[0m\u001b[0m\n\u001b[0;32m   1471\u001b[0m         \u001b[1;32mif\u001b[0m \u001b[0mdata\u001b[0m \u001b[1;32mis\u001b[0m \u001b[1;32mNone\u001b[0m\u001b[1;33m:\u001b[0m\u001b[1;33m\u001b[0m\u001b[1;33m\u001b[0m\u001b[0m\n\u001b[1;32m-> 1472\u001b[1;33m             \u001b[1;32mreturn\u001b[0m \u001b[0mfunc\u001b[0m\u001b[1;33m(\u001b[0m\u001b[0max\u001b[0m\u001b[1;33m,\u001b[0m \u001b[1;33m*\u001b[0m\u001b[0mmap\u001b[0m\u001b[1;33m(\u001b[0m\u001b[0msanitize_sequence\u001b[0m\u001b[1;33m,\u001b[0m \u001b[0margs\u001b[0m\u001b[1;33m)\u001b[0m\u001b[1;33m,\u001b[0m \u001b[1;33m**\u001b[0m\u001b[0mkwargs\u001b[0m\u001b[1;33m)\u001b[0m\u001b[1;33m\u001b[0m\u001b[1;33m\u001b[0m\u001b[0m\n\u001b[0m\u001b[0;32m   1473\u001b[0m \u001b[1;33m\u001b[0m\u001b[0m\n\u001b[0;32m   1474\u001b[0m         \u001b[0mbound\u001b[0m \u001b[1;33m=\u001b[0m \u001b[0mnew_sig\u001b[0m\u001b[1;33m.\u001b[0m\u001b[0mbind\u001b[0m\u001b[1;33m(\u001b[0m\u001b[0max\u001b[0m\u001b[1;33m,\u001b[0m \u001b[1;33m*\u001b[0m\u001b[0margs\u001b[0m\u001b[1;33m,\u001b[0m \u001b[1;33m**\u001b[0m\u001b[0mkwargs\u001b[0m\u001b[1;33m)\u001b[0m\u001b[1;33m\u001b[0m\u001b[1;33m\u001b[0m\u001b[0m\n",
      "\u001b[1;32m~\\General\\Python\\WPy64-3890\\python-3.8.9.amd64\\lib\\site-packages\\matplotlib\\axes\\_axes.py\u001b[0m in \u001b[0;36mpcolormesh\u001b[1;34m(self, alpha, norm, cmap, vmin, vmax, shading, antialiased, *args, **kwargs)\u001b[0m\n\u001b[0;32m   6218\u001b[0m         \u001b[0mkwargs\u001b[0m\u001b[1;33m.\u001b[0m\u001b[0msetdefault\u001b[0m\u001b[1;33m(\u001b[0m\u001b[1;34m'edgecolors'\u001b[0m\u001b[1;33m,\u001b[0m \u001b[1;34m'none'\u001b[0m\u001b[1;33m)\u001b[0m\u001b[1;33m\u001b[0m\u001b[1;33m\u001b[0m\u001b[0m\n\u001b[0;32m   6219\u001b[0m \u001b[1;33m\u001b[0m\u001b[0m\n\u001b[1;32m-> 6220\u001b[1;33m         X, Y, C, shading = self._pcolorargs('pcolormesh', *args,\n\u001b[0m\u001b[0;32m   6221\u001b[0m                                             shading=shading, kwargs=kwargs)\n\u001b[0;32m   6222\u001b[0m         \u001b[0mcoords\u001b[0m \u001b[1;33m=\u001b[0m \u001b[0mnp\u001b[0m\u001b[1;33m.\u001b[0m\u001b[0mstack\u001b[0m\u001b[1;33m(\u001b[0m\u001b[1;33m[\u001b[0m\u001b[0mX\u001b[0m\u001b[1;33m,\u001b[0m \u001b[0mY\u001b[0m\u001b[1;33m]\u001b[0m\u001b[1;33m,\u001b[0m \u001b[0maxis\u001b[0m\u001b[1;33m=\u001b[0m\u001b[1;33m-\u001b[0m\u001b[1;36m1\u001b[0m\u001b[1;33m)\u001b[0m\u001b[1;33m\u001b[0m\u001b[1;33m\u001b[0m\u001b[0m\n",
      "\u001b[1;32m~\\General\\Python\\WPy64-3890\\python-3.8.9.amd64\\lib\\site-packages\\matplotlib\\axes\\_axes.py\u001b[0m in \u001b[0;36m_pcolorargs\u001b[1;34m(self, funcname, shading, *args, **kwargs)\u001b[0m\n\u001b[0;32m   5749\u001b[0m         \u001b[1;32mif\u001b[0m \u001b[0mshading\u001b[0m \u001b[1;33m==\u001b[0m \u001b[1;34m'flat'\u001b[0m\u001b[1;33m:\u001b[0m\u001b[1;33m\u001b[0m\u001b[1;33m\u001b[0m\u001b[0m\n\u001b[0;32m   5750\u001b[0m             \u001b[1;32mif\u001b[0m \u001b[1;33m(\u001b[0m\u001b[0mNx\u001b[0m\u001b[1;33m,\u001b[0m \u001b[0mNy\u001b[0m\u001b[1;33m)\u001b[0m \u001b[1;33m!=\u001b[0m \u001b[1;33m(\u001b[0m\u001b[0mncols\u001b[0m \u001b[1;33m+\u001b[0m \u001b[1;36m1\u001b[0m\u001b[1;33m,\u001b[0m \u001b[0mnrows\u001b[0m \u001b[1;33m+\u001b[0m \u001b[1;36m1\u001b[0m\u001b[1;33m)\u001b[0m\u001b[1;33m:\u001b[0m\u001b[1;33m\u001b[0m\u001b[1;33m\u001b[0m\u001b[0m\n\u001b[1;32m-> 5751\u001b[1;33m                 raise TypeError(f\"Dimensions of C {C.shape} should\"\n\u001b[0m\u001b[0;32m   5752\u001b[0m                                 \u001b[1;34mf\" be one smaller than X({Nx}) and Y({Ny})\"\u001b[0m\u001b[1;33m\u001b[0m\u001b[1;33m\u001b[0m\u001b[0m\n\u001b[0;32m   5753\u001b[0m                                 \u001b[1;34mf\" while using shading='flat'\"\u001b[0m\u001b[1;33m\u001b[0m\u001b[1;33m\u001b[0m\u001b[0m\n",
      "\u001b[1;31mTypeError\u001b[0m: Dimensions of C (1200, 1) should be one smaller than X(60) and Y(1200) while using shading='flat' see help(pcolormesh)"
     ]
    },
    {
     "data": {
      "image/png": "[encoded data removed]",
      "text/plain": [
       "<Figure size 432x576 with 3 Axes>"
      ]
     },
     "metadata": {
      "needs_background": "light"
     },
     "output_type": "display_data"
    }
   ],
   "source": [
    "plt.figure(figsize=[6, 8])\n",
    "\n",
    "plt.subplot(2, 1, 1)\n",
    "plt.pcolormesh(distances.to('nm').magnitude, delays.to('ps').magnitude, temp_map[:, :, 0],\n",
    "               shading='auto')\n",
    "plt.colorbar()\n",
    "plt.xlabel('Distance [nm]')\n",
    "plt.ylabel('Delay [ps]')\n",
    "plt.title('Temperature Map Electrons')\n",
    "\n",
    "plt.subplot(2, 1, 2)\n",
    "\n",
    "plt.pcolormesh(distances.to('nm').magnitude, delays.to('ps').magnitude, mf_mag_map, shading='auto')\n",
    "plt.colorbar()\n",
    "plt.xlabel('Distance [nm]')\n",
    "plt.ylabel('Delay [ps]')\n",
    "plt.title('mean-field magnetization')\n",
    "\n",
    "plt.tight_layout()\n",
    "\n",
    "plt.show()"
   ]
  },
  {
   "cell_type": "code",
   "execution_count": 200,
   "id": "64b45f74-edc7-4e46-be00-c543be5c8391",
   "metadata": {
    "tags": []
   },
   "outputs": [
    {
     "data": {
      "text/plain": [
       "{'amplitude': 0, 'phi': 0.0 <Unit('degree')>, 'gamma': 0.0 <Unit('degree')>}"
      ]
     },
     "execution_count": 200,
     "metadata": {},
     "output_type": "execute_result"
    }
   ],
   "source": [
    "layer_Co.magnetization"
   ]
  },
  {
   "cell_type": "code",
   "execution_count": 201,
   "id": "f5535856-843d-4d9d-84d2-d9de2512e645",
   "metadata": {
    "tags": []
   },
   "outputs": [
    {
     "ename": "TypeError",
     "evalue": "float() argument must be a string or a number, not 'dict'",
     "output_type": "error",
     "traceback": [
      "\u001b[1;31m---------------------------------------------------------------------------\u001b[0m",
      "\u001b[1;31mTypeError\u001b[0m                                 Traceback (most recent call last)",
      "\u001b[1;32mC:\\Users\\LOC_SC~1\\AppData\\Local\\Temp/ipykernel_45032/3312595738.py\u001b[0m in \u001b[0;36m<module>\u001b[1;34m\u001b[0m\n\u001b[1;32m----> 1\u001b[1;33m \u001b[0mS\u001b[0m\u001b[1;33m.\u001b[0m\u001b[0mget_layer_property_vector\u001b[0m\u001b[1;33m(\u001b[0m\u001b[1;34m'magnetization'\u001b[0m\u001b[1;33m)\u001b[0m\u001b[1;33m\u001b[0m\u001b[1;33m\u001b[0m\u001b[0m\n\u001b[0m",
      "\u001b[1;32mc:\\users\\loc_schick\\general\\git\\udkm1dsim\\udkm1Dsim\\structures\\structure.py\u001b[0m in \u001b[0;36mget_layer_property_vector\u001b[1;34m(self, property_name)\u001b[0m\n\u001b[0;32m    616\u001b[0m                     \u001b[0mprop\u001b[0m\u001b[1;33m.\u001b[0m\u001b[0mdtype\u001b[0m \u001b[1;33m=\u001b[0m \u001b[0mcomplex\u001b[0m\u001b[1;33m\u001b[0m\u001b[1;33m\u001b[0m\u001b[0m\n\u001b[0;32m    617\u001b[0m                 \u001b[1;32mif\u001b[0m \u001b[0mmax_dim\u001b[0m \u001b[1;33m>\u001b[0m \u001b[1;36m1\u001b[0m\u001b[1;33m:\u001b[0m\u001b[1;33m\u001b[0m\u001b[1;33m\u001b[0m\u001b[0m\n\u001b[1;32m--> 618\u001b[1;33m                     \u001b[0mprop\u001b[0m\u001b[1;33m[\u001b[0m\u001b[0mi\u001b[0m\u001b[1;33m,\u001b[0m \u001b[1;33m:\u001b[0m\u001b[1;33m]\u001b[0m \u001b[1;33m=\u001b[0m \u001b[0mtemp\u001b[0m\u001b[1;33m\u001b[0m\u001b[1;33m\u001b[0m\u001b[0m\n\u001b[0m\u001b[0;32m    619\u001b[0m                 \u001b[1;32melse\u001b[0m\u001b[1;33m:\u001b[0m\u001b[1;33m\u001b[0m\u001b[1;33m\u001b[0m\u001b[0m\n\u001b[0;32m    620\u001b[0m                     \u001b[0mprop\u001b[0m\u001b[1;33m[\u001b[0m\u001b[0mi\u001b[0m\u001b[1;33m]\u001b[0m \u001b[1;33m=\u001b[0m \u001b[0mtemp\u001b[0m\u001b[1;33m\u001b[0m\u001b[1;33m\u001b[0m\u001b[0m\n",
      "\u001b[1;31mTypeError\u001b[0m: float() argument must be a string or a number, not 'dict'"
     ]
    }
   ],
   "source": [
    "S.get_layer_property_vector('magnetization')"
   ]
  }
 ],
 "metadata": {
  "kernelspec": {
   "display_name": "Python 3 (ipykernel)",
   "language": "python",
   "name": "python3"
  },
  "language_info": {
   "codemirror_mode": {
    "name": "ipython",
    "version": 3
   },
   "file_extension": ".py",
   "mimetype": "text/x-python",
   "name": "python",
   "nbconvert_exporter": "python",
   "pygments_lexer": "ipython3",
   "version": "3.8.9"
  }
 },
 "nbformat": 4,
 "nbformat_minor": 5
}
